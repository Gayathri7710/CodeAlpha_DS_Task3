{
 "cells": [
  {
   "cell_type": "code",
   "execution_count": 1,
   "id": "3b68d379",
   "metadata": {},
   "outputs": [],
   "source": [
    "import numpy as np\n",
    "import pandas as pd\n",
    "import matplotlib.pyplot as plt\n",
    "import seaborn as sns\n",
    "import re"
   ]
  },
  {
   "cell_type": "code",
   "execution_count": 2,
   "id": "4085b54e",
   "metadata": {},
   "outputs": [
    {
     "data": {
      "text/html": [
       "<div>\n",
       "<style scoped>\n",
       "    .dataframe tbody tr th:only-of-type {\n",
       "        vertical-align: middle;\n",
       "    }\n",
       "\n",
       "    .dataframe tbody tr th {\n",
       "        vertical-align: top;\n",
       "    }\n",
       "\n",
       "    .dataframe thead th {\n",
       "        text-align: right;\n",
       "    }\n",
       "</style>\n",
       "<table border=\"1\" class=\"dataframe\">\n",
       "  <thead>\n",
       "    <tr style=\"text-align: right;\">\n",
       "      <th></th>\n",
       "      <th>Name</th>\n",
       "      <th>Location</th>\n",
       "      <th>Year</th>\n",
       "      <th>Kilometers_Driven</th>\n",
       "      <th>Fuel_Type</th>\n",
       "      <th>Transmission</th>\n",
       "      <th>Owner_Type</th>\n",
       "      <th>Mileage</th>\n",
       "      <th>Engine</th>\n",
       "      <th>Power</th>\n",
       "      <th>Colour</th>\n",
       "      <th>Seats</th>\n",
       "      <th>No. of Doors</th>\n",
       "      <th>New_Price</th>\n",
       "      <th>Price</th>\n",
       "    </tr>\n",
       "  </thead>\n",
       "  <tbody>\n",
       "    <tr>\n",
       "      <th>0</th>\n",
       "      <td>Mahindra Scorpio</td>\n",
       "      <td>Pune</td>\n",
       "      <td>2012.0</td>\n",
       "      <td>99000.0</td>\n",
       "      <td>Diesel</td>\n",
       "      <td>Manual</td>\n",
       "      <td>Third</td>\n",
       "      <td>12.05 kmpl</td>\n",
       "      <td>2179 CC</td>\n",
       "      <td>120 bhp</td>\n",
       "      <td>Black/Silver</td>\n",
       "      <td>8.0</td>\n",
       "      <td>5.0</td>\n",
       "      <td>NaN</td>\n",
       "      <td>6.00</td>\n",
       "    </tr>\n",
       "    <tr>\n",
       "      <th>1</th>\n",
       "      <td>Maruti Baleno</td>\n",
       "      <td>Kochi</td>\n",
       "      <td>2018.0</td>\n",
       "      <td>18678.0</td>\n",
       "      <td>Petrol</td>\n",
       "      <td>Manual</td>\n",
       "      <td>First</td>\n",
       "      <td>21.1 kmpl</td>\n",
       "      <td>998 CC</td>\n",
       "      <td>100 bhp</td>\n",
       "      <td>Others</td>\n",
       "      <td>5.0</td>\n",
       "      <td>4.0</td>\n",
       "      <td>NaN</td>\n",
       "      <td>8.32</td>\n",
       "    </tr>\n",
       "    <tr>\n",
       "      <th>2</th>\n",
       "      <td>Mahindra Xylo</td>\n",
       "      <td>Bangalore</td>\n",
       "      <td>2013.0</td>\n",
       "      <td>197000.0</td>\n",
       "      <td>Diesel</td>\n",
       "      <td>Manual</td>\n",
       "      <td>First</td>\n",
       "      <td>11.68 kmpl</td>\n",
       "      <td>2498 CC</td>\n",
       "      <td>112 bhp</td>\n",
       "      <td>White</td>\n",
       "      <td>7.0</td>\n",
       "      <td>5.0</td>\n",
       "      <td>NaN</td>\n",
       "      <td>4.00</td>\n",
       "    </tr>\n",
       "    <tr>\n",
       "      <th>3</th>\n",
       "      <td>Hyundai Grand</td>\n",
       "      <td>Delhi</td>\n",
       "      <td>2014.0</td>\n",
       "      <td>45000.0</td>\n",
       "      <td>Diesel</td>\n",
       "      <td>Manual</td>\n",
       "      <td>First</td>\n",
       "      <td>24.0 kmpl</td>\n",
       "      <td>1120 CC</td>\n",
       "      <td>70 bhp</td>\n",
       "      <td>White</td>\n",
       "      <td>5.0</td>\n",
       "      <td>4.0</td>\n",
       "      <td>NaN</td>\n",
       "      <td>3.49</td>\n",
       "    </tr>\n",
       "    <tr>\n",
       "      <th>4</th>\n",
       "      <td>Toyota Innova</td>\n",
       "      <td>Delhi</td>\n",
       "      <td>2011.0</td>\n",
       "      <td>65000.0</td>\n",
       "      <td>Diesel</td>\n",
       "      <td>Manual</td>\n",
       "      <td>First</td>\n",
       "      <td>12.8 kmpl</td>\n",
       "      <td>2494 CC</td>\n",
       "      <td>102 bhp</td>\n",
       "      <td>Others</td>\n",
       "      <td>8.0</td>\n",
       "      <td>5.0</td>\n",
       "      <td>NaN</td>\n",
       "      <td>6.40</td>\n",
       "    </tr>\n",
       "    <tr>\n",
       "      <th>...</th>\n",
       "      <td>...</td>\n",
       "      <td>...</td>\n",
       "      <td>...</td>\n",
       "      <td>...</td>\n",
       "      <td>...</td>\n",
       "      <td>...</td>\n",
       "      <td>...</td>\n",
       "      <td>...</td>\n",
       "      <td>...</td>\n",
       "      <td>...</td>\n",
       "      <td>...</td>\n",
       "      <td>...</td>\n",
       "      <td>...</td>\n",
       "      <td>...</td>\n",
       "      <td>...</td>\n",
       "    </tr>\n",
       "    <tr>\n",
       "      <th>5956</th>\n",
       "      <td>Honda Civic</td>\n",
       "      <td>Pune</td>\n",
       "      <td>2011.0</td>\n",
       "      <td>47000.0</td>\n",
       "      <td>Petrol</td>\n",
       "      <td>Automatic</td>\n",
       "      <td>Second</td>\n",
       "      <td>13.9 kmpl</td>\n",
       "      <td>1799 CC</td>\n",
       "      <td>130.3 bhp</td>\n",
       "      <td>Others</td>\n",
       "      <td>5.0</td>\n",
       "      <td>4.0</td>\n",
       "      <td>NaN</td>\n",
       "      <td>4.50</td>\n",
       "    </tr>\n",
       "    <tr>\n",
       "      <th>5957</th>\n",
       "      <td>Hyundai i20</td>\n",
       "      <td>Delhi</td>\n",
       "      <td>2013.0</td>\n",
       "      <td>63777.0</td>\n",
       "      <td>Petrol</td>\n",
       "      <td>Manual</td>\n",
       "      <td>First</td>\n",
       "      <td>18.5 kmpl</td>\n",
       "      <td>1197 CC</td>\n",
       "      <td>82.9 bhp</td>\n",
       "      <td>Black/Silver</td>\n",
       "      <td>5.0</td>\n",
       "      <td>4.0</td>\n",
       "      <td>NaN</td>\n",
       "      <td>3.67</td>\n",
       "    </tr>\n",
       "    <tr>\n",
       "      <th>5958</th>\n",
       "      <td>Maruti Swift</td>\n",
       "      <td>Coimbatore</td>\n",
       "      <td>2016.0</td>\n",
       "      <td>37806.0</td>\n",
       "      <td>Petrol</td>\n",
       "      <td>Manual</td>\n",
       "      <td>First</td>\n",
       "      <td>20.4 kmpl</td>\n",
       "      <td>1197 CC</td>\n",
       "      <td>81.80 bhp</td>\n",
       "      <td>Black/Silver</td>\n",
       "      <td>5.0</td>\n",
       "      <td>4.0</td>\n",
       "      <td>NaN</td>\n",
       "      <td>5.20</td>\n",
       "    </tr>\n",
       "    <tr>\n",
       "      <th>5959</th>\n",
       "      <td>Mercedes-Benz SLK-Class</td>\n",
       "      <td>Coimbatore</td>\n",
       "      <td>2016.0</td>\n",
       "      <td>22732.0</td>\n",
       "      <td>Petrol</td>\n",
       "      <td>Automatic</td>\n",
       "      <td>First</td>\n",
       "      <td>18.1 kmpl</td>\n",
       "      <td>3498 CC</td>\n",
       "      <td>306 bhp</td>\n",
       "      <td>Black/Silver</td>\n",
       "      <td>2.0</td>\n",
       "      <td>2.0</td>\n",
       "      <td>NaN</td>\n",
       "      <td>55.54</td>\n",
       "    </tr>\n",
       "    <tr>\n",
       "      <th>5960</th>\n",
       "      <td>Hyundai i10</td>\n",
       "      <td>Kolkata</td>\n",
       "      <td>2016.0</td>\n",
       "      <td>7000.0</td>\n",
       "      <td>Petrol</td>\n",
       "      <td>Manual</td>\n",
       "      <td>First</td>\n",
       "      <td>20.36 kmpl</td>\n",
       "      <td>1197 CC</td>\n",
       "      <td>78.9 bhp</td>\n",
       "      <td>White</td>\n",
       "      <td>5.0</td>\n",
       "      <td>4.0</td>\n",
       "      <td>NaN</td>\n",
       "      <td>3.60</td>\n",
       "    </tr>\n",
       "  </tbody>\n",
       "</table>\n",
       "<p>5961 rows × 15 columns</p>\n",
       "</div>"
      ],
      "text/plain": [
       "                         Name    Location    Year  Kilometers_Driven  \\\n",
       "0            Mahindra Scorpio        Pune  2012.0            99000.0   \n",
       "1               Maruti Baleno       Kochi  2018.0            18678.0   \n",
       "2               Mahindra Xylo   Bangalore  2013.0           197000.0   \n",
       "3               Hyundai Grand       Delhi  2014.0            45000.0   \n",
       "4               Toyota Innova       Delhi  2011.0            65000.0   \n",
       "...                       ...         ...     ...                ...   \n",
       "5956              Honda Civic        Pune  2011.0            47000.0   \n",
       "5957              Hyundai i20       Delhi  2013.0            63777.0   \n",
       "5958             Maruti Swift  Coimbatore  2016.0            37806.0   \n",
       "5959  Mercedes-Benz SLK-Class  Coimbatore  2016.0            22732.0   \n",
       "5960              Hyundai i10     Kolkata  2016.0             7000.0   \n",
       "\n",
       "     Fuel_Type Transmission Owner_Type     Mileage   Engine      Power  \\\n",
       "0       Diesel       Manual      Third  12.05 kmpl  2179 CC    120 bhp   \n",
       "1       Petrol       Manual      First   21.1 kmpl   998 CC    100 bhp   \n",
       "2       Diesel       Manual      First  11.68 kmpl  2498 CC    112 bhp   \n",
       "3       Diesel       Manual      First   24.0 kmpl  1120 CC     70 bhp   \n",
       "4       Diesel       Manual      First   12.8 kmpl  2494 CC    102 bhp   \n",
       "...        ...          ...        ...         ...      ...        ...   \n",
       "5956    Petrol    Automatic     Second   13.9 kmpl  1799 CC  130.3 bhp   \n",
       "5957    Petrol       Manual      First   18.5 kmpl  1197 CC   82.9 bhp   \n",
       "5958    Petrol       Manual      First   20.4 kmpl  1197 CC  81.80 bhp   \n",
       "5959    Petrol    Automatic      First   18.1 kmpl  3498 CC    306 bhp   \n",
       "5960    Petrol       Manual      First  20.36 kmpl  1197 CC   78.9 bhp   \n",
       "\n",
       "            Colour  Seats  No. of Doors New_Price  Price  \n",
       "0     Black/Silver    8.0           5.0       NaN   6.00  \n",
       "1           Others    5.0           4.0       NaN   8.32  \n",
       "2            White    7.0           5.0       NaN   4.00  \n",
       "3            White    5.0           4.0       NaN   3.49  \n",
       "4           Others    8.0           5.0       NaN   6.40  \n",
       "...            ...    ...           ...       ...    ...  \n",
       "5956        Others    5.0           4.0       NaN   4.50  \n",
       "5957  Black/Silver    5.0           4.0       NaN   3.67  \n",
       "5958  Black/Silver    5.0           4.0       NaN   5.20  \n",
       "5959  Black/Silver    2.0           2.0       NaN  55.54  \n",
       "5960         White    5.0           4.0       NaN   3.60  \n",
       "\n",
       "[5961 rows x 15 columns]"
      ]
     },
     "execution_count": 2,
     "metadata": {},
     "output_type": "execute_result"
    }
   ],
   "source": [
    "df = pd.read_csv(\"Cars.csv\")\n",
    "df"
   ]
  },
  {
   "cell_type": "code",
   "execution_count": 3,
   "id": "aafb3e17",
   "metadata": {},
   "outputs": [],
   "source": [
    "df.drop(columns = ['New_Price'],axis = 1,inplace = True)"
   ]
  },
  {
   "cell_type": "code",
   "execution_count": 4,
   "id": "540982a8",
   "metadata": {},
   "outputs": [
    {
     "data": {
      "text/html": [
       "<div>\n",
       "<style scoped>\n",
       "    .dataframe tbody tr th:only-of-type {\n",
       "        vertical-align: middle;\n",
       "    }\n",
       "\n",
       "    .dataframe tbody tr th {\n",
       "        vertical-align: top;\n",
       "    }\n",
       "\n",
       "    .dataframe thead th {\n",
       "        text-align: right;\n",
       "    }\n",
       "</style>\n",
       "<table border=\"1\" class=\"dataframe\">\n",
       "  <thead>\n",
       "    <tr style=\"text-align: right;\">\n",
       "      <th></th>\n",
       "      <th>Name</th>\n",
       "      <th>Location</th>\n",
       "      <th>Year</th>\n",
       "      <th>Kilometers_Driven</th>\n",
       "      <th>Fuel_Type</th>\n",
       "      <th>Transmission</th>\n",
       "      <th>Owner_Type</th>\n",
       "      <th>Mileage</th>\n",
       "      <th>Engine</th>\n",
       "      <th>Power</th>\n",
       "      <th>Colour</th>\n",
       "      <th>Seats</th>\n",
       "      <th>No. of Doors</th>\n",
       "      <th>Price</th>\n",
       "    </tr>\n",
       "  </thead>\n",
       "  <tbody>\n",
       "    <tr>\n",
       "      <th>0</th>\n",
       "      <td>Mahindra Scorpio</td>\n",
       "      <td>Pune</td>\n",
       "      <td>2012.0</td>\n",
       "      <td>99000.0</td>\n",
       "      <td>Diesel</td>\n",
       "      <td>Manual</td>\n",
       "      <td>Third</td>\n",
       "      <td>12.05 kmpl</td>\n",
       "      <td>2179 CC</td>\n",
       "      <td>120 bhp</td>\n",
       "      <td>Black/Silver</td>\n",
       "      <td>8.0</td>\n",
       "      <td>5.0</td>\n",
       "      <td>6.00</td>\n",
       "    </tr>\n",
       "    <tr>\n",
       "      <th>1</th>\n",
       "      <td>Maruti Baleno</td>\n",
       "      <td>Kochi</td>\n",
       "      <td>2018.0</td>\n",
       "      <td>18678.0</td>\n",
       "      <td>Petrol</td>\n",
       "      <td>Manual</td>\n",
       "      <td>First</td>\n",
       "      <td>21.1 kmpl</td>\n",
       "      <td>998 CC</td>\n",
       "      <td>100 bhp</td>\n",
       "      <td>Others</td>\n",
       "      <td>5.0</td>\n",
       "      <td>4.0</td>\n",
       "      <td>8.32</td>\n",
       "    </tr>\n",
       "    <tr>\n",
       "      <th>2</th>\n",
       "      <td>Mahindra Xylo</td>\n",
       "      <td>Bangalore</td>\n",
       "      <td>2013.0</td>\n",
       "      <td>197000.0</td>\n",
       "      <td>Diesel</td>\n",
       "      <td>Manual</td>\n",
       "      <td>First</td>\n",
       "      <td>11.68 kmpl</td>\n",
       "      <td>2498 CC</td>\n",
       "      <td>112 bhp</td>\n",
       "      <td>White</td>\n",
       "      <td>7.0</td>\n",
       "      <td>5.0</td>\n",
       "      <td>4.00</td>\n",
       "    </tr>\n",
       "    <tr>\n",
       "      <th>3</th>\n",
       "      <td>Hyundai Grand</td>\n",
       "      <td>Delhi</td>\n",
       "      <td>2014.0</td>\n",
       "      <td>45000.0</td>\n",
       "      <td>Diesel</td>\n",
       "      <td>Manual</td>\n",
       "      <td>First</td>\n",
       "      <td>24.0 kmpl</td>\n",
       "      <td>1120 CC</td>\n",
       "      <td>70 bhp</td>\n",
       "      <td>White</td>\n",
       "      <td>5.0</td>\n",
       "      <td>4.0</td>\n",
       "      <td>3.49</td>\n",
       "    </tr>\n",
       "    <tr>\n",
       "      <th>4</th>\n",
       "      <td>Toyota Innova</td>\n",
       "      <td>Delhi</td>\n",
       "      <td>2011.0</td>\n",
       "      <td>65000.0</td>\n",
       "      <td>Diesel</td>\n",
       "      <td>Manual</td>\n",
       "      <td>First</td>\n",
       "      <td>12.8 kmpl</td>\n",
       "      <td>2494 CC</td>\n",
       "      <td>102 bhp</td>\n",
       "      <td>Others</td>\n",
       "      <td>8.0</td>\n",
       "      <td>5.0</td>\n",
       "      <td>6.40</td>\n",
       "    </tr>\n",
       "    <tr>\n",
       "      <th>...</th>\n",
       "      <td>...</td>\n",
       "      <td>...</td>\n",
       "      <td>...</td>\n",
       "      <td>...</td>\n",
       "      <td>...</td>\n",
       "      <td>...</td>\n",
       "      <td>...</td>\n",
       "      <td>...</td>\n",
       "      <td>...</td>\n",
       "      <td>...</td>\n",
       "      <td>...</td>\n",
       "      <td>...</td>\n",
       "      <td>...</td>\n",
       "      <td>...</td>\n",
       "    </tr>\n",
       "    <tr>\n",
       "      <th>5956</th>\n",
       "      <td>Honda Civic</td>\n",
       "      <td>Pune</td>\n",
       "      <td>2011.0</td>\n",
       "      <td>47000.0</td>\n",
       "      <td>Petrol</td>\n",
       "      <td>Automatic</td>\n",
       "      <td>Second</td>\n",
       "      <td>13.9 kmpl</td>\n",
       "      <td>1799 CC</td>\n",
       "      <td>130.3 bhp</td>\n",
       "      <td>Others</td>\n",
       "      <td>5.0</td>\n",
       "      <td>4.0</td>\n",
       "      <td>4.50</td>\n",
       "    </tr>\n",
       "    <tr>\n",
       "      <th>5957</th>\n",
       "      <td>Hyundai i20</td>\n",
       "      <td>Delhi</td>\n",
       "      <td>2013.0</td>\n",
       "      <td>63777.0</td>\n",
       "      <td>Petrol</td>\n",
       "      <td>Manual</td>\n",
       "      <td>First</td>\n",
       "      <td>18.5 kmpl</td>\n",
       "      <td>1197 CC</td>\n",
       "      <td>82.9 bhp</td>\n",
       "      <td>Black/Silver</td>\n",
       "      <td>5.0</td>\n",
       "      <td>4.0</td>\n",
       "      <td>3.67</td>\n",
       "    </tr>\n",
       "    <tr>\n",
       "      <th>5958</th>\n",
       "      <td>Maruti Swift</td>\n",
       "      <td>Coimbatore</td>\n",
       "      <td>2016.0</td>\n",
       "      <td>37806.0</td>\n",
       "      <td>Petrol</td>\n",
       "      <td>Manual</td>\n",
       "      <td>First</td>\n",
       "      <td>20.4 kmpl</td>\n",
       "      <td>1197 CC</td>\n",
       "      <td>81.80 bhp</td>\n",
       "      <td>Black/Silver</td>\n",
       "      <td>5.0</td>\n",
       "      <td>4.0</td>\n",
       "      <td>5.20</td>\n",
       "    </tr>\n",
       "    <tr>\n",
       "      <th>5959</th>\n",
       "      <td>Mercedes-Benz SLK-Class</td>\n",
       "      <td>Coimbatore</td>\n",
       "      <td>2016.0</td>\n",
       "      <td>22732.0</td>\n",
       "      <td>Petrol</td>\n",
       "      <td>Automatic</td>\n",
       "      <td>First</td>\n",
       "      <td>18.1 kmpl</td>\n",
       "      <td>3498 CC</td>\n",
       "      <td>306 bhp</td>\n",
       "      <td>Black/Silver</td>\n",
       "      <td>2.0</td>\n",
       "      <td>2.0</td>\n",
       "      <td>55.54</td>\n",
       "    </tr>\n",
       "    <tr>\n",
       "      <th>5960</th>\n",
       "      <td>Hyundai i10</td>\n",
       "      <td>Kolkata</td>\n",
       "      <td>2016.0</td>\n",
       "      <td>7000.0</td>\n",
       "      <td>Petrol</td>\n",
       "      <td>Manual</td>\n",
       "      <td>First</td>\n",
       "      <td>20.36 kmpl</td>\n",
       "      <td>1197 CC</td>\n",
       "      <td>78.9 bhp</td>\n",
       "      <td>White</td>\n",
       "      <td>5.0</td>\n",
       "      <td>4.0</td>\n",
       "      <td>3.60</td>\n",
       "    </tr>\n",
       "  </tbody>\n",
       "</table>\n",
       "<p>5961 rows × 14 columns</p>\n",
       "</div>"
      ],
      "text/plain": [
       "                         Name    Location    Year  Kilometers_Driven  \\\n",
       "0            Mahindra Scorpio        Pune  2012.0            99000.0   \n",
       "1               Maruti Baleno       Kochi  2018.0            18678.0   \n",
       "2               Mahindra Xylo   Bangalore  2013.0           197000.0   \n",
       "3               Hyundai Grand       Delhi  2014.0            45000.0   \n",
       "4               Toyota Innova       Delhi  2011.0            65000.0   \n",
       "...                       ...         ...     ...                ...   \n",
       "5956              Honda Civic        Pune  2011.0            47000.0   \n",
       "5957              Hyundai i20       Delhi  2013.0            63777.0   \n",
       "5958             Maruti Swift  Coimbatore  2016.0            37806.0   \n",
       "5959  Mercedes-Benz SLK-Class  Coimbatore  2016.0            22732.0   \n",
       "5960              Hyundai i10     Kolkata  2016.0             7000.0   \n",
       "\n",
       "     Fuel_Type Transmission Owner_Type     Mileage   Engine      Power  \\\n",
       "0       Diesel       Manual      Third  12.05 kmpl  2179 CC    120 bhp   \n",
       "1       Petrol       Manual      First   21.1 kmpl   998 CC    100 bhp   \n",
       "2       Diesel       Manual      First  11.68 kmpl  2498 CC    112 bhp   \n",
       "3       Diesel       Manual      First   24.0 kmpl  1120 CC     70 bhp   \n",
       "4       Diesel       Manual      First   12.8 kmpl  2494 CC    102 bhp   \n",
       "...        ...          ...        ...         ...      ...        ...   \n",
       "5956    Petrol    Automatic     Second   13.9 kmpl  1799 CC  130.3 bhp   \n",
       "5957    Petrol       Manual      First   18.5 kmpl  1197 CC   82.9 bhp   \n",
       "5958    Petrol       Manual      First   20.4 kmpl  1197 CC  81.80 bhp   \n",
       "5959    Petrol    Automatic      First   18.1 kmpl  3498 CC    306 bhp   \n",
       "5960    Petrol       Manual      First  20.36 kmpl  1197 CC   78.9 bhp   \n",
       "\n",
       "            Colour  Seats  No. of Doors  Price  \n",
       "0     Black/Silver    8.0           5.0   6.00  \n",
       "1           Others    5.0           4.0   8.32  \n",
       "2            White    7.0           5.0   4.00  \n",
       "3            White    5.0           4.0   3.49  \n",
       "4           Others    8.0           5.0   6.40  \n",
       "...            ...    ...           ...    ...  \n",
       "5956        Others    5.0           4.0   4.50  \n",
       "5957  Black/Silver    5.0           4.0   3.67  \n",
       "5958  Black/Silver    5.0           4.0   5.20  \n",
       "5959  Black/Silver    2.0           2.0  55.54  \n",
       "5960         White    5.0           4.0   3.60  \n",
       "\n",
       "[5961 rows x 14 columns]"
      ]
     },
     "execution_count": 4,
     "metadata": {},
     "output_type": "execute_result"
    }
   ],
   "source": [
    "df"
   ]
  },
  {
   "cell_type": "code",
   "execution_count": 5,
   "id": "79bb4919",
   "metadata": {},
   "outputs": [
    {
     "data": {
      "text/html": [
       "<div>\n",
       "<style scoped>\n",
       "    .dataframe tbody tr th:only-of-type {\n",
       "        vertical-align: middle;\n",
       "    }\n",
       "\n",
       "    .dataframe tbody tr th {\n",
       "        vertical-align: top;\n",
       "    }\n",
       "\n",
       "    .dataframe thead th {\n",
       "        text-align: right;\n",
       "    }\n",
       "</style>\n",
       "<table border=\"1\" class=\"dataframe\">\n",
       "  <thead>\n",
       "    <tr style=\"text-align: right;\">\n",
       "      <th></th>\n",
       "      <th>Year</th>\n",
       "      <th>Kilometers_Driven</th>\n",
       "      <th>Seats</th>\n",
       "      <th>No. of Doors</th>\n",
       "      <th>Price</th>\n",
       "    </tr>\n",
       "  </thead>\n",
       "  <tbody>\n",
       "    <tr>\n",
       "      <th>count</th>\n",
       "      <td>5959.000000</td>\n",
       "      <td>5.953000e+03</td>\n",
       "      <td>5956.000000</td>\n",
       "      <td>5960.000000</td>\n",
       "      <td>5961.000000</td>\n",
       "    </tr>\n",
       "    <tr>\n",
       "      <th>mean</th>\n",
       "      <td>2013.389159</td>\n",
       "      <td>5.871110e+04</td>\n",
       "      <td>5.269140</td>\n",
       "      <td>4.114933</td>\n",
       "      <td>9.528103</td>\n",
       "    </tr>\n",
       "    <tr>\n",
       "      <th>std</th>\n",
       "      <td>3.243051</td>\n",
       "      <td>9.171221e+04</td>\n",
       "      <td>0.789048</td>\n",
       "      <td>0.344757</td>\n",
       "      <td>11.214382</td>\n",
       "    </tr>\n",
       "    <tr>\n",
       "      <th>min</th>\n",
       "      <td>1998.000000</td>\n",
       "      <td>1.710000e+02</td>\n",
       "      <td>2.000000</td>\n",
       "      <td>2.000000</td>\n",
       "      <td>0.440000</td>\n",
       "    </tr>\n",
       "    <tr>\n",
       "      <th>25%</th>\n",
       "      <td>2011.500000</td>\n",
       "      <td>3.393100e+04</td>\n",
       "      <td>5.000000</td>\n",
       "      <td>4.000000</td>\n",
       "      <td>3.500000</td>\n",
       "    </tr>\n",
       "    <tr>\n",
       "      <th>50%</th>\n",
       "      <td>2014.000000</td>\n",
       "      <td>5.300000e+04</td>\n",
       "      <td>5.000000</td>\n",
       "      <td>4.000000</td>\n",
       "      <td>5.660000</td>\n",
       "    </tr>\n",
       "    <tr>\n",
       "      <th>75%</th>\n",
       "      <td>2016.000000</td>\n",
       "      <td>7.300000e+04</td>\n",
       "      <td>5.000000</td>\n",
       "      <td>4.000000</td>\n",
       "      <td>10.000000</td>\n",
       "    </tr>\n",
       "    <tr>\n",
       "      <th>max</th>\n",
       "      <td>2019.000000</td>\n",
       "      <td>6.500000e+06</td>\n",
       "      <td>10.000000</td>\n",
       "      <td>5.000000</td>\n",
       "      <td>160.000000</td>\n",
       "    </tr>\n",
       "  </tbody>\n",
       "</table>\n",
       "</div>"
      ],
      "text/plain": [
       "              Year  Kilometers_Driven        Seats  No. of Doors        Price\n",
       "count  5959.000000       5.953000e+03  5956.000000   5960.000000  5961.000000\n",
       "mean   2013.389159       5.871110e+04     5.269140      4.114933     9.528103\n",
       "std       3.243051       9.171221e+04     0.789048      0.344757    11.214382\n",
       "min    1998.000000       1.710000e+02     2.000000      2.000000     0.440000\n",
       "25%    2011.500000       3.393100e+04     5.000000      4.000000     3.500000\n",
       "50%    2014.000000       5.300000e+04     5.000000      4.000000     5.660000\n",
       "75%    2016.000000       7.300000e+04     5.000000      4.000000    10.000000\n",
       "max    2019.000000       6.500000e+06    10.000000      5.000000   160.000000"
      ]
     },
     "execution_count": 5,
     "metadata": {},
     "output_type": "execute_result"
    }
   ],
   "source": [
    "df.describe()"
   ]
  },
  {
   "cell_type": "code",
   "execution_count": 6,
   "id": "5485dfee",
   "metadata": {},
   "outputs": [
    {
     "name": "stdout",
     "output_type": "stream",
     "text": [
      "<class 'pandas.core.frame.DataFrame'>\n",
      "RangeIndex: 5961 entries, 0 to 5960\n",
      "Data columns (total 14 columns):\n",
      " #   Column             Non-Null Count  Dtype  \n",
      "---  ------             --------------  -----  \n",
      " 0   Name               5961 non-null   object \n",
      " 1   Location           5950 non-null   object \n",
      " 2   Year               5959 non-null   float64\n",
      " 3   Kilometers_Driven  5953 non-null   float64\n",
      " 4   Fuel_Type          5961 non-null   object \n",
      " 5   Transmission       5934 non-null   object \n",
      " 6   Owner_Type         5946 non-null   object \n",
      " 7   Mileage            5959 non-null   object \n",
      " 8   Engine             5944 non-null   object \n",
      " 9   Power              5929 non-null   object \n",
      " 10  Colour             5950 non-null   object \n",
      " 11  Seats              5956 non-null   float64\n",
      " 12  No. of Doors       5960 non-null   float64\n",
      " 13  Price              5961 non-null   float64\n",
      "dtypes: float64(5), object(9)\n",
      "memory usage: 652.1+ KB\n"
     ]
    }
   ],
   "source": [
    "df.info()"
   ]
  },
  {
   "cell_type": "code",
   "execution_count": 7,
   "id": "efd6e3ae",
   "metadata": {},
   "outputs": [
    {
     "data": {
      "text/plain": [
       "Index(['Name', 'Location', 'Year', 'Kilometers_Driven', 'Fuel_Type',\n",
       "       'Transmission', 'Owner_Type', 'Mileage', 'Engine', 'Power', 'Colour',\n",
       "       'Seats', 'No. of Doors', 'Price'],\n",
       "      dtype='object')"
      ]
     },
     "execution_count": 7,
     "metadata": {},
     "output_type": "execute_result"
    }
   ],
   "source": [
    "df.columns"
   ]
  },
  {
   "cell_type": "code",
   "execution_count": 8,
   "id": "fea12716",
   "metadata": {},
   "outputs": [
    {
     "data": {
      "text/html": [
       "<div>\n",
       "<style scoped>\n",
       "    .dataframe tbody tr th:only-of-type {\n",
       "        vertical-align: middle;\n",
       "    }\n",
       "\n",
       "    .dataframe tbody tr th {\n",
       "        vertical-align: top;\n",
       "    }\n",
       "\n",
       "    .dataframe thead th {\n",
       "        text-align: right;\n",
       "    }\n",
       "</style>\n",
       "<table border=\"1\" class=\"dataframe\">\n",
       "  <thead>\n",
       "    <tr style=\"text-align: right;\">\n",
       "      <th></th>\n",
       "      <th>Fuel_Type</th>\n",
       "      <th>Transmission</th>\n",
       "      <th>Owner_Type</th>\n",
       "      <th>Mileage</th>\n",
       "      <th>Engine</th>\n",
       "      <th>Power</th>\n",
       "      <th>Colour</th>\n",
       "    </tr>\n",
       "  </thead>\n",
       "  <tbody>\n",
       "    <tr>\n",
       "      <th>0</th>\n",
       "      <td>Diesel</td>\n",
       "      <td>Manual</td>\n",
       "      <td>Third</td>\n",
       "      <td>12.05 kmpl</td>\n",
       "      <td>2179 CC</td>\n",
       "      <td>120 bhp</td>\n",
       "      <td>Black/Silver</td>\n",
       "    </tr>\n",
       "    <tr>\n",
       "      <th>1</th>\n",
       "      <td>Petrol</td>\n",
       "      <td>Manual</td>\n",
       "      <td>First</td>\n",
       "      <td>21.1 kmpl</td>\n",
       "      <td>998 CC</td>\n",
       "      <td>100 bhp</td>\n",
       "      <td>Others</td>\n",
       "    </tr>\n",
       "    <tr>\n",
       "      <th>2</th>\n",
       "      <td>Diesel</td>\n",
       "      <td>Manual</td>\n",
       "      <td>First</td>\n",
       "      <td>11.68 kmpl</td>\n",
       "      <td>2498 CC</td>\n",
       "      <td>112 bhp</td>\n",
       "      <td>White</td>\n",
       "    </tr>\n",
       "    <tr>\n",
       "      <th>3</th>\n",
       "      <td>Diesel</td>\n",
       "      <td>Manual</td>\n",
       "      <td>First</td>\n",
       "      <td>24.0 kmpl</td>\n",
       "      <td>1120 CC</td>\n",
       "      <td>70 bhp</td>\n",
       "      <td>White</td>\n",
       "    </tr>\n",
       "    <tr>\n",
       "      <th>4</th>\n",
       "      <td>Diesel</td>\n",
       "      <td>Manual</td>\n",
       "      <td>First</td>\n",
       "      <td>12.8 kmpl</td>\n",
       "      <td>2494 CC</td>\n",
       "      <td>102 bhp</td>\n",
       "      <td>Others</td>\n",
       "    </tr>\n",
       "    <tr>\n",
       "      <th>...</th>\n",
       "      <td>...</td>\n",
       "      <td>...</td>\n",
       "      <td>...</td>\n",
       "      <td>...</td>\n",
       "      <td>...</td>\n",
       "      <td>...</td>\n",
       "      <td>...</td>\n",
       "    </tr>\n",
       "    <tr>\n",
       "      <th>5956</th>\n",
       "      <td>Petrol</td>\n",
       "      <td>Automatic</td>\n",
       "      <td>Second</td>\n",
       "      <td>13.9 kmpl</td>\n",
       "      <td>1799 CC</td>\n",
       "      <td>130.3 bhp</td>\n",
       "      <td>Others</td>\n",
       "    </tr>\n",
       "    <tr>\n",
       "      <th>5957</th>\n",
       "      <td>Petrol</td>\n",
       "      <td>Manual</td>\n",
       "      <td>First</td>\n",
       "      <td>18.5 kmpl</td>\n",
       "      <td>1197 CC</td>\n",
       "      <td>82.9 bhp</td>\n",
       "      <td>Black/Silver</td>\n",
       "    </tr>\n",
       "    <tr>\n",
       "      <th>5958</th>\n",
       "      <td>Petrol</td>\n",
       "      <td>Manual</td>\n",
       "      <td>First</td>\n",
       "      <td>20.4 kmpl</td>\n",
       "      <td>1197 CC</td>\n",
       "      <td>81.80 bhp</td>\n",
       "      <td>Black/Silver</td>\n",
       "    </tr>\n",
       "    <tr>\n",
       "      <th>5959</th>\n",
       "      <td>Petrol</td>\n",
       "      <td>Automatic</td>\n",
       "      <td>First</td>\n",
       "      <td>18.1 kmpl</td>\n",
       "      <td>3498 CC</td>\n",
       "      <td>306 bhp</td>\n",
       "      <td>Black/Silver</td>\n",
       "    </tr>\n",
       "    <tr>\n",
       "      <th>5960</th>\n",
       "      <td>Petrol</td>\n",
       "      <td>Manual</td>\n",
       "      <td>First</td>\n",
       "      <td>20.36 kmpl</td>\n",
       "      <td>1197 CC</td>\n",
       "      <td>78.9 bhp</td>\n",
       "      <td>White</td>\n",
       "    </tr>\n",
       "  </tbody>\n",
       "</table>\n",
       "<p>5961 rows × 7 columns</p>\n",
       "</div>"
      ],
      "text/plain": [
       "     Fuel_Type Transmission Owner_Type     Mileage   Engine      Power  \\\n",
       "0       Diesel       Manual      Third  12.05 kmpl  2179 CC    120 bhp   \n",
       "1       Petrol       Manual      First   21.1 kmpl   998 CC    100 bhp   \n",
       "2       Diesel       Manual      First  11.68 kmpl  2498 CC    112 bhp   \n",
       "3       Diesel       Manual      First   24.0 kmpl  1120 CC     70 bhp   \n",
       "4       Diesel       Manual      First   12.8 kmpl  2494 CC    102 bhp   \n",
       "...        ...          ...        ...         ...      ...        ...   \n",
       "5956    Petrol    Automatic     Second   13.9 kmpl  1799 CC  130.3 bhp   \n",
       "5957    Petrol       Manual      First   18.5 kmpl  1197 CC   82.9 bhp   \n",
       "5958    Petrol       Manual      First   20.4 kmpl  1197 CC  81.80 bhp   \n",
       "5959    Petrol    Automatic      First   18.1 kmpl  3498 CC    306 bhp   \n",
       "5960    Petrol       Manual      First  20.36 kmpl  1197 CC   78.9 bhp   \n",
       "\n",
       "            Colour  \n",
       "0     Black/Silver  \n",
       "1           Others  \n",
       "2            White  \n",
       "3            White  \n",
       "4           Others  \n",
       "...            ...  \n",
       "5956        Others  \n",
       "5957  Black/Silver  \n",
       "5958  Black/Silver  \n",
       "5959  Black/Silver  \n",
       "5960         White  \n",
       "\n",
       "[5961 rows x 7 columns]"
      ]
     },
     "execution_count": 8,
     "metadata": {},
     "output_type": "execute_result"
    }
   ],
   "source": [
    "df[['Fuel_Type',\n",
    "       'Transmission', 'Owner_Type', 'Mileage', 'Engine', 'Power', 'Colour',]]"
   ]
  },
  {
   "cell_type": "code",
   "execution_count": 9,
   "id": "13271fef",
   "metadata": {},
   "outputs": [],
   "source": [
    "df.dropna(inplace=True)"
   ]
  },
  {
   "cell_type": "code",
   "execution_count": 10,
   "id": "b544479e",
   "metadata": {},
   "outputs": [
    {
     "name": "stdout",
     "output_type": "stream",
     "text": [
      "<class 'pandas.core.frame.DataFrame'>\n",
      "Index: 5889 entries, 0 to 5960\n",
      "Data columns (total 14 columns):\n",
      " #   Column             Non-Null Count  Dtype  \n",
      "---  ------             --------------  -----  \n",
      " 0   Name               5889 non-null   object \n",
      " 1   Location           5889 non-null   object \n",
      " 2   Year               5889 non-null   float64\n",
      " 3   Kilometers_Driven  5889 non-null   float64\n",
      " 4   Fuel_Type          5889 non-null   object \n",
      " 5   Transmission       5889 non-null   object \n",
      " 6   Owner_Type         5889 non-null   object \n",
      " 7   Mileage            5889 non-null   object \n",
      " 8   Engine             5889 non-null   object \n",
      " 9   Power              5889 non-null   object \n",
      " 10  Colour             5889 non-null   object \n",
      " 11  Seats              5889 non-null   float64\n",
      " 12  No. of Doors       5889 non-null   float64\n",
      " 13  Price              5889 non-null   float64\n",
      "dtypes: float64(5), object(9)\n",
      "memory usage: 690.1+ KB\n"
     ]
    }
   ],
   "source": [
    "df.info()"
   ]
  },
  {
   "cell_type": "code",
   "execution_count": 11,
   "id": "38dd3193",
   "metadata": {},
   "outputs": [
    {
     "data": {
      "text/plain": [
       "Power\n",
       "74 bhp       231\n",
       "98.6 bhp     128\n",
       "73.9 bhp     124\n",
       "140 bhp      123\n",
       "78.9 bhp     111\n",
       "67.1 bhp     106\n",
       "67.04 bhp    105\n",
       "null bhp     103\n",
       "82 bhp       100\n",
       "88.5 bhp      97\n",
       "Name: count, dtype: int64"
      ]
     },
     "execution_count": 11,
     "metadata": {},
     "output_type": "execute_result"
    }
   ],
   "source": [
    "df['Power'].value_counts().head(10)"
   ]
  },
  {
   "cell_type": "code",
   "execution_count": 12,
   "id": "778fde9a",
   "metadata": {},
   "outputs": [
    {
     "name": "stderr",
     "output_type": "stream",
     "text": [
      "C:\\Users\\gayat\\AppData\\Local\\Temp\\ipykernel_18628\\3319244501.py:1: FutureWarning: A value is trying to be set on a copy of a DataFrame or Series through chained assignment using an inplace method.\n",
      "The behavior will change in pandas 3.0. This inplace method will never work because the intermediate object on which we are setting values always behaves as a copy.\n",
      "\n",
      "For example, when doing 'df[col].method(value, inplace=True)', try using 'df.method({col: value}, inplace=True)' or df[col] = df[col].method(value) instead, to perform the operation inplace on the original object.\n",
      "\n",
      "\n",
      "  df['Power'].replace('null bhp',np.nan,inplace=True)\n"
     ]
    }
   ],
   "source": [
    "df['Power'].replace('null bhp',np.nan,inplace=True)"
   ]
  },
  {
   "cell_type": "code",
   "execution_count": 13,
   "id": "29282579",
   "metadata": {},
   "outputs": [],
   "source": [
    "df.dropna(inplace=True)"
   ]
  },
  {
   "cell_type": "code",
   "execution_count": 14,
   "id": "9fa29ce7",
   "metadata": {},
   "outputs": [
    {
     "name": "stdout",
     "output_type": "stream",
     "text": [
      "<class 'pandas.core.frame.DataFrame'>\n",
      "Index: 5786 entries, 0 to 5960\n",
      "Data columns (total 14 columns):\n",
      " #   Column             Non-Null Count  Dtype  \n",
      "---  ------             --------------  -----  \n",
      " 0   Name               5786 non-null   object \n",
      " 1   Location           5786 non-null   object \n",
      " 2   Year               5786 non-null   float64\n",
      " 3   Kilometers_Driven  5786 non-null   float64\n",
      " 4   Fuel_Type          5786 non-null   object \n",
      " 5   Transmission       5786 non-null   object \n",
      " 6   Owner_Type         5786 non-null   object \n",
      " 7   Mileage            5786 non-null   object \n",
      " 8   Engine             5786 non-null   object \n",
      " 9   Power              5786 non-null   object \n",
      " 10  Colour             5786 non-null   object \n",
      " 11  Seats              5786 non-null   float64\n",
      " 12  No. of Doors       5786 non-null   float64\n",
      " 13  Price              5786 non-null   float64\n",
      "dtypes: float64(5), object(9)\n",
      "memory usage: 678.0+ KB\n"
     ]
    }
   ],
   "source": [
    "df.info()"
   ]
  },
  {
   "cell_type": "code",
   "execution_count": 15,
   "id": "9c9f5ee3",
   "metadata": {},
   "outputs": [],
   "source": [
    "def takeOutTheFloat(x):\n",
    "    return re.findall(r'\\d+(?:\\.\\d+)?', x)[0]"
   ]
  },
  {
   "cell_type": "code",
   "execution_count": 16,
   "id": "21de590d",
   "metadata": {},
   "outputs": [],
   "source": [
    "df['Mileage'] = df['Mileage'].apply(lambda x : takeOutTheFloat(x))\n",
    "df['Engine'] = df['Engine'].apply(lambda x : takeOutTheFloat(x))\n",
    "df['Power'] = df['Power'].apply(lambda x : takeOutTheFloat(x))\n",
    "df[['Mileage','Engine','Power']] = df[['Mileage','Engine','Power']].astype(float)"
   ]
  },
  {
   "cell_type": "code",
   "execution_count": 17,
   "id": "9f35b6fe",
   "metadata": {},
   "outputs": [
    {
     "name": "stdout",
     "output_type": "stream",
     "text": [
      "<class 'pandas.core.frame.DataFrame'>\n",
      "Index: 5786 entries, 0 to 5960\n",
      "Data columns (total 14 columns):\n",
      " #   Column             Non-Null Count  Dtype  \n",
      "---  ------             --------------  -----  \n",
      " 0   Name               5786 non-null   object \n",
      " 1   Location           5786 non-null   object \n",
      " 2   Year               5786 non-null   float64\n",
      " 3   Kilometers_Driven  5786 non-null   float64\n",
      " 4   Fuel_Type          5786 non-null   object \n",
      " 5   Transmission       5786 non-null   object \n",
      " 6   Owner_Type         5786 non-null   object \n",
      " 7   Mileage            5786 non-null   float64\n",
      " 8   Engine             5786 non-null   float64\n",
      " 9   Power              5786 non-null   float64\n",
      " 10  Colour             5786 non-null   object \n",
      " 11  Seats              5786 non-null   float64\n",
      " 12  No. of Doors       5786 non-null   float64\n",
      " 13  Price              5786 non-null   float64\n",
      "dtypes: float64(8), object(6)\n",
      "memory usage: 678.0+ KB\n"
     ]
    }
   ],
   "source": [
    "df.info()"
   ]
  },
  {
   "cell_type": "code",
   "execution_count": 18,
   "id": "b3f6e18f",
   "metadata": {},
   "outputs": [
    {
     "data": {
      "text/plain": [
       "<matplotlib.collections.PathCollection at 0x185d8196b10>"
      ]
     },
     "execution_count": 18,
     "metadata": {},
     "output_type": "execute_result"
    },
    {
     "data": {
      "image/png": "[encoded data removed]",
      "text/plain": [
       "<Figure size 640x480 with 1 Axes>"
      ]
     },
     "metadata": {},
     "output_type": "display_data"
    }
   ],
   "source": [
    "plt.scatter(df['Power'],df['Price'])"
   ]
  },
  {
   "cell_type": "code",
   "execution_count": 19,
   "id": "4f70eca1",
   "metadata": {},
   "outputs": [
    {
     "data": {
      "text/plain": [
       "<matplotlib.collections.PathCollection at 0x185d80e0450>"
      ]
     },
     "execution_count": 19,
     "metadata": {},
     "output_type": "execute_result"
    },
    {
     "data": {
      "image/png": "[encoded data removed]",
      "text/plain": [
       "<Figure size 640x480 with 1 Axes>"
      ]
     },
     "metadata": {},
     "output_type": "display_data"
    }
   ],
   "source": [
    "plt.scatter(df['Mileage'],df['Price'])"
   ]
  },
  {
   "cell_type": "code",
   "execution_count": 20,
   "id": "6695b25e",
   "metadata": {},
   "outputs": [
    {
     "data": {
      "text/plain": [
       "<matplotlib.collections.PathCollection at 0x185d8256410>"
      ]
     },
     "execution_count": 20,
     "metadata": {},
     "output_type": "execute_result"
    },
    {
     "data": {
      "image/png": "[encoded data removed]",
      "text/plain": [
       "<Figure size 640x480 with 1 Axes>"
      ]
     },
     "metadata": {},
     "output_type": "display_data"
    }
   ],
   "source": [
    "plt.scatter(df['Engine'],df['Price'])"
   ]
  },
  {
   "cell_type": "code",
   "execution_count": 21,
   "id": "8f92b4c0",
   "metadata": {},
   "outputs": [
    {
     "data": {
      "text/plain": [
       "<matplotlib.collections.PathCollection at 0x185d828ba10>"
      ]
     },
     "execution_count": 21,
     "metadata": {},
     "output_type": "execute_result"
    },
    {
     "data": {
      "image/png": "[encoded data removed]",
      "text/plain": [
       "<Figure size 640x480 with 1 Axes>"
      ]
     },
     "metadata": {},
     "output_type": "display_data"
    }
   ],
   "source": [
    "plt.scatter(df['Kilometers_Driven'],df['Price'])"
   ]
  },
  {
   "cell_type": "code",
   "execution_count": 22,
   "id": "7b1d6b33",
   "metadata": {},
   "outputs": [
    {
     "data": {
      "text/plain": [
       "Location\n",
       "Mumbai        760\n",
       "Hyderabad     710\n",
       "Kochi         635\n",
       "Coimbatore    620\n",
       "Pune          585\n",
       "Delhi         539\n",
       "Kolkata       512\n",
       "Chennai       471\n",
       "Jaipur        394\n",
       "Bangalore     341\n",
       "Ahmedabad     219\n",
       "Name: Location, dtype: int64"
      ]
     },
     "execution_count": 22,
     "metadata": {},
     "output_type": "execute_result"
    }
   ],
   "source": [
    "df.groupby('Location')['Location'].agg('count').sort_values(ascending=False)"
   ]
  },
  {
   "cell_type": "code",
   "execution_count": 23,
   "id": "9508ea03",
   "metadata": {},
   "outputs": [
    {
     "data": {
      "text/plain": [
       "Seats\n",
       "5.0     4860\n",
       "7.0      667\n",
       "8.0      115\n",
       "4.0       98\n",
       "6.0       29\n",
       "2.0       13\n",
       "9.0        2\n",
       "10.0       2\n",
       "Name: Seats, dtype: int64"
      ]
     },
     "execution_count": 23,
     "metadata": {},
     "output_type": "execute_result"
    }
   ],
   "source": [
    "df.groupby('Seats')['Seats'].agg('count').sort_values(ascending=False)"
   ]
  },
  {
   "cell_type": "code",
   "execution_count": 24,
   "id": "689ea810",
   "metadata": {},
   "outputs": [
    {
     "data": {
      "text/plain": [
       "Seats\n",
       "5.0     4860\n",
       "7.0      667\n",
       "8.0      115\n",
       "4.0       98\n",
       "6.0       29\n",
       "2.0       13\n",
       "9.0        2\n",
       "10.0       2\n",
       "Name: Seats, dtype: int64"
      ]
     },
     "execution_count": 24,
     "metadata": {},
     "output_type": "execute_result"
    }
   ],
   "source": [
    "df_group_seats = df.groupby('Seats')['Seats'].agg('count').sort_values(ascending=False)\n",
    "df_group_seats"
   ]
  },
  {
   "cell_type": "code",
   "execution_count": 25,
   "id": "0a6c1e45",
   "metadata": {},
   "outputs": [
    {
     "data": {
      "text/plain": [
       "Seats\n",
       "9.0     2\n",
       "10.0    2\n",
       "Name: Seats, dtype: int64"
      ]
     },
     "execution_count": 25,
     "metadata": {},
     "output_type": "execute_result"
    }
   ],
   "source": [
    "df_group_seats_less = df_group_seats[df_group_seats < 10]\n",
    "df_group_seats_less"
   ]
  },
  {
   "cell_type": "code",
   "execution_count": 26,
   "id": "cdf55bc9",
   "metadata": {},
   "outputs": [
    {
     "data": {
      "text/plain": [
       "Seats\n",
       "5.0    4860\n",
       "7.0     667\n",
       "8.0     115\n",
       "4.0      98\n",
       "6.0      29\n",
       "2.0      13\n",
       "Name: count, dtype: int64"
      ]
     },
     "execution_count": 26,
     "metadata": {},
     "output_type": "execute_result"
    }
   ],
   "source": [
    "df['Seats'] = df['Seats'].apply(lambda x : 'other' if x in df_group_seats_less else x)\n",
    "df = df[df.Seats.isin(['other']) == False]\n",
    "df['Seats'].value_counts()"
   ]
  },
  {
   "cell_type": "code",
   "execution_count": 27,
   "id": "c59d02aa",
   "metadata": {},
   "outputs": [
    {
     "data": {
      "text/plain": [
       "No. of Doors\n",
       "4.0    5064\n",
       "5.0     705\n",
       "2.0      13\n",
       "Name: No. of Doors, dtype: int64"
      ]
     },
     "execution_count": 27,
     "metadata": {},
     "output_type": "execute_result"
    }
   ],
   "source": [
    "df_groupby_door = df.groupby('No. of Doors')['No. of Doors'].agg('count').sort_values(ascending=False)\n",
    "df_groupby_door"
   ]
  },
  {
   "cell_type": "code",
   "execution_count": 28,
   "id": "0d5c58b8",
   "metadata": {},
   "outputs": [
    {
     "data": {
      "text/plain": [
       "No. of Doors\n",
       "2.0    13\n",
       "Name: No. of Doors, dtype: int64"
      ]
     },
     "execution_count": 28,
     "metadata": {},
     "output_type": "execute_result"
    }
   ],
   "source": [
    "df_groupby_door_less = df_groupby_door[df_groupby_door < 20]\n",
    "df_groupby_door_less"
   ]
  },
  {
   "cell_type": "code",
   "execution_count": 29,
   "id": "85f935bd",
   "metadata": {},
   "outputs": [
    {
     "name": "stderr",
     "output_type": "stream",
     "text": [
      "C:\\Users\\gayat\\AppData\\Local\\Temp\\ipykernel_18628\\2866639833.py:1: SettingWithCopyWarning: \n",
      "A value is trying to be set on a copy of a slice from a DataFrame.\n",
      "Try using .loc[row_indexer,col_indexer] = value instead\n",
      "\n",
      "See the caveats in the documentation: https://pandas.pydata.org/pandas-docs/stable/user_guide/indexing.html#returning-a-view-versus-a-copy\n",
      "  df['No. of Doors'] = df['No. of Doors'].apply(lambda x : 'other' if x in df_groupby_door_less else x)\n"
     ]
    },
    {
     "data": {
      "text/plain": [
       "No. of Doors\n",
       "4.0    5064\n",
       "5.0     705\n",
       "Name: count, dtype: int64"
      ]
     },
     "execution_count": 29,
     "metadata": {},
     "output_type": "execute_result"
    }
   ],
   "source": [
    "df['No. of Doors'] = df['No. of Doors'].apply(lambda x : 'other' if x in df_groupby_door_less else x)\n",
    "df = df[df['No. of Doors'].isin(['other']) == False]\n",
    "df['No. of Doors'].value_counts()"
   ]
  },
  {
   "cell_type": "code",
   "execution_count": 30,
   "id": "10965cda",
   "metadata": {},
   "outputs": [
    {
     "data": {
      "text/plain": [
       "Owner_Type\n",
       "First             4757\n",
       "Second             911\n",
       "Third               95\n",
       "Fourth & Above       6\n",
       "Name: Owner_Type, dtype: int64"
      ]
     },
     "execution_count": 30,
     "metadata": {},
     "output_type": "execute_result"
    }
   ],
   "source": [
    "df.groupby('Owner_Type')['Owner_Type'].agg('count').sort_values(ascending=False)"
   ]
  },
  {
   "cell_type": "code",
   "execution_count": 31,
   "id": "16ecde0b",
   "metadata": {},
   "outputs": [
    {
     "data": {
      "text/plain": [
       "Owner_Type\n",
       "First             4757\n",
       "Second             911\n",
       "Third               95\n",
       "Fourth & Above       6\n",
       "Name: Owner_Type, dtype: int64"
      ]
     },
     "execution_count": 31,
     "metadata": {},
     "output_type": "execute_result"
    }
   ],
   "source": [
    "df_group_by_ownertype = df.groupby('Owner_Type')['Owner_Type'].agg('count').sort_values(ascending=False)\n",
    "df_group_by_ownertype"
   ]
  },
  {
   "cell_type": "code",
   "execution_count": 32,
   "id": "b71f50a8",
   "metadata": {},
   "outputs": [
    {
     "data": {
      "text/plain": [
       "Owner_Type\n",
       "Third             95\n",
       "Fourth & Above     6\n",
       "Name: Owner_Type, dtype: int64"
      ]
     },
     "execution_count": 32,
     "metadata": {},
     "output_type": "execute_result"
    }
   ],
   "source": [
    "df_group_by_ownertype_less = df_group_by_ownertype[df_group_by_ownertype < 100]\n",
    "df_group_by_ownertype_less"
   ]
  },
  {
   "cell_type": "code",
   "execution_count": 33,
   "id": "6e128e60",
   "metadata": {},
   "outputs": [],
   "source": [
    "df['Owner_Type'] = df['Owner_Type'].apply(lambda x : 'other' if x in df_group_by_ownertype_less else x)\n",
    "df['Owner_Type'].value_counts()\n",
    "df = df[df['Owner_Type'].isin(['other']) == False]"
   ]
  },
  {
   "cell_type": "code",
   "execution_count": 34,
   "id": "6209594f",
   "metadata": {},
   "outputs": [
    {
     "data": {
      "text/plain": [
       "Transmission\n",
       "Manual       4020\n",
       "Automatic    1648\n",
       "Name: Transmission, dtype: int64"
      ]
     },
     "execution_count": 34,
     "metadata": {},
     "output_type": "execute_result"
    }
   ],
   "source": [
    "df_group_by_Transmission = df.groupby('Transmission')['Transmission'].agg('count').sort_values(ascending=False)\n",
    "df_group_by_Transmission"
   ]
  },
  {
   "cell_type": "code",
   "execution_count": 35,
   "id": "db7e519c",
   "metadata": {},
   "outputs": [],
   "source": [
    "from sklearn import preprocessing\n",
    "le = preprocessing.LabelEncoder()"
   ]
  },
  {
   "cell_type": "code",
   "execution_count": 36,
   "id": "2f662604",
   "metadata": {},
   "outputs": [
    {
     "data": {
      "text/plain": [
       "Transmission\n",
       "1    4020\n",
       "0    1648\n",
       "Name: count, dtype: int64"
      ]
     },
     "execution_count": 36,
     "metadata": {},
     "output_type": "execute_result"
    }
   ],
   "source": [
    "df['Transmission'] = le.fit_transform(df['Transmission'])\n",
    "df['Transmission'].value_counts()"
   ]
  },
  {
   "cell_type": "code",
   "execution_count": 37,
   "id": "572e7619",
   "metadata": {},
   "outputs": [
    {
     "data": {
      "text/plain": [
       "Fuel_Type\n",
       "Diesel    3060\n",
       "Petrol    2545\n",
       "CNG         54\n",
       "LPG          9\n",
       "Name: Fuel_Type, dtype: int64"
      ]
     },
     "execution_count": 37,
     "metadata": {},
     "output_type": "execute_result"
    }
   ],
   "source": [
    "df_groupby_Fuel_Type = df.groupby('Fuel_Type')['Fuel_Type'].agg('count').sort_values(ascending=False)\n",
    "df_groupby_Fuel_Type"
   ]
  },
  {
   "cell_type": "code",
   "execution_count": 38,
   "id": "b39d7a4a",
   "metadata": {},
   "outputs": [
    {
     "data": {
      "text/plain": [
       "Fuel_Type\n",
       "CNG    54\n",
       "LPG     9\n",
       "Name: Fuel_Type, dtype: int64"
      ]
     },
     "execution_count": 38,
     "metadata": {},
     "output_type": "execute_result"
    }
   ],
   "source": [
    "df_groupby_Fuel_Type_less = df_groupby_Fuel_Type[df_groupby_Fuel_Type < 100]\n",
    "df_groupby_Fuel_Type_less"
   ]
  },
  {
   "cell_type": "code",
   "execution_count": 39,
   "id": "60f7dc74",
   "metadata": {},
   "outputs": [],
   "source": [
    "df['Fuel_Type'] = df['Fuel_Type'].apply(lambda x : 'other' if x in df_groupby_Fuel_Type_less else x)\n",
    "df['Fuel_Type']\n",
    "\n",
    "df = df[df['Fuel_Type'].isin(['Fuel_Type']) == False]"
   ]
  },
  {
   "cell_type": "code",
   "execution_count": 40,
   "id": "d9104840",
   "metadata": {},
   "outputs": [
    {
     "data": {
      "text/plain": [
       "Fuel_Type\n",
       "Diesel    3060\n",
       "Petrol    2545\n",
       "other       63\n",
       "Name: Fuel_Type, dtype: int64"
      ]
     },
     "execution_count": 40,
     "metadata": {},
     "output_type": "execute_result"
    }
   ],
   "source": [
    "df.groupby('Fuel_Type')['Fuel_Type'].agg('count').sort_values(ascending=False)"
   ]
  },
  {
   "cell_type": "code",
   "execution_count": 41,
   "id": "44fbe71c",
   "metadata": {},
   "outputs": [
    {
     "data": {
      "text/plain": [
       "Name\n",
       "Maruti Swift     319\n",
       "Honda City       258\n",
       "Hyundai i20      242\n",
       "Hyundai Verna    166\n",
       "Toyota Innova    157\n",
       "                ... \n",
       "Ford Classic       1\n",
       "Isuzu MUX          1\n",
       "Ford Fusion        1\n",
       "Ford Mustang       1\n",
       "Nissan Evalia      1\n",
       "Name: Name, Length: 195, dtype: int64"
      ]
     },
     "execution_count": 41,
     "metadata": {},
     "output_type": "execute_result"
    }
   ],
   "source": [
    "df.groupby('Name')['Name'].agg('count').sort_values(ascending=False)"
   ]
  },
  {
   "cell_type": "code",
   "execution_count": 42,
   "id": "808832c2",
   "metadata": {},
   "outputs": [
    {
     "data": {
      "text/plain": [
       "Name\n",
       "Maruti Swift     319\n",
       "Honda City       258\n",
       "Hyundai i20      242\n",
       "Hyundai Verna    166\n",
       "Toyota Innova    157\n",
       "                ... \n",
       "Ford Classic       1\n",
       "Isuzu MUX          1\n",
       "Ford Fusion        1\n",
       "Ford Mustang       1\n",
       "Nissan Evalia      1\n",
       "Name: Name, Length: 195, dtype: int64"
      ]
     },
     "execution_count": 42,
     "metadata": {},
     "output_type": "execute_result"
    }
   ],
   "source": [
    "df_group_by_name = df.groupby('Name')['Name'].agg('count').sort_values(ascending=False)\n",
    "df_group_by_name"
   ]
  },
  {
   "cell_type": "code",
   "execution_count": 43,
   "id": "86a55708",
   "metadata": {},
   "outputs": [
    {
     "data": {
      "text/plain": [
       "Name\n",
       "Tata Sumo                  4\n",
       "Tata Bolt                  4\n",
       "Tata Hexa                  4\n",
       "Volvo V40                  4\n",
       "Volkswagen CrossPolo       4\n",
       "Renault Fluence            4\n",
       "Audi A3                    4\n",
       "Ford Aspire                4\n",
       "Mercedes-Benz R-Class      4\n",
       "Mahindra Verito            4\n",
       "Fiat Avventura             4\n",
       "Honda WRV                  3\n",
       "Maruti S-Cross             3\n",
       "Hyundai Tucson             3\n",
       "Tata Xenon                 3\n",
       "Ford Freestyle             3\n",
       "Jaguar XE                  3\n",
       "Mahindra NuvoSport         3\n",
       "Force One                  3\n",
       "Maruti Grand               3\n",
       "Mercedes-Benz C-Class      3\n",
       "Tata Nexon                 3\n",
       "Chevrolet Enjoy            3\n",
       "Renault Koleos             3\n",
       "BMW 1                      3\n",
       "Renault Captur             3\n",
       "Nissan X-Trail             3\n",
       "Audi A7                    3\n",
       "Honda BR-V                 3\n",
       "Fiat Punto                 2\n",
       "Chevrolet Captiva          2\n",
       "Audi RS5                   2\n",
       "Volvo S80                  2\n",
       "Audi A8                    2\n",
       "Volvo XC90                 2\n",
       "Mercedes-Benz GLS          2\n",
       "ISUZU D-MAX                2\n",
       "Mitsubishi Cedia           2\n",
       "Mahindra Renault           2\n",
       "Maruti Esteem              2\n",
       "Mitsubishi Outlander       2\n",
       "Honda WR-V                 1\n",
       "Nissan Teana               1\n",
       "Mitsubishi Montero         1\n",
       "Mini Countryman            1\n",
       "Audi TT                    1\n",
       "Volkswagen Tiguan          1\n",
       "Mini Clubman               1\n",
       "Bentley Continental        1\n",
       "Datsun Redi                1\n",
       "Mercedes-Benz CLS-Class    1\n",
       "Volkswagen Beetle          1\n",
       "Toyota Platinum            1\n",
       "Mahindra XUV300            1\n",
       "Mahindra Logan             1\n",
       "Ford Classic               1\n",
       "Isuzu MUX                  1\n",
       "Ford Fusion                1\n",
       "Ford Mustang               1\n",
       "Nissan Evalia              1\n",
       "Name: Name, dtype: int64"
      ]
     },
     "execution_count": 43,
     "metadata": {},
     "output_type": "execute_result"
    }
   ],
   "source": [
    "df_group_by_name_less = df_group_by_name[df_group_by_name < 5]\n",
    "df_group_by_name_less"
   ]
  },
  {
   "cell_type": "code",
   "execution_count": 44,
   "id": "c44cde6c",
   "metadata": {},
   "outputs": [
    {
     "data": {
      "text/plain": [
       "Name\n",
       "Maruti Swift       319\n",
       "Honda City         258\n",
       "Hyundai i20        242\n",
       "Hyundai Verna      166\n",
       "Toyota Innova      157\n",
       "                  ... \n",
       "Honda BRV            5\n",
       "Fiat Grande          5\n",
       "Mahindra Quanto      5\n",
       "Renault Pulse        5\n",
       "Tata Tigor           5\n",
       "Name: count, Length: 136, dtype: int64"
      ]
     },
     "execution_count": 44,
     "metadata": {},
     "output_type": "execute_result"
    }
   ],
   "source": [
    "df['Name'] = df['Name'].apply(lambda x : 'other' if x in df_group_by_name_less else x)\n",
    "df['Name'].value_counts()"
   ]
  },
  {
   "cell_type": "code",
   "execution_count": 45,
   "id": "0a616681",
   "metadata": {},
   "outputs": [],
   "source": [
    "df = df[df['Name'].isin(['other']) == False]"
   ]
  },
  {
   "cell_type": "code",
   "execution_count": 46,
   "id": "88856355",
   "metadata": {},
   "outputs": [
    {
     "data": {
      "text/plain": [
       "Seats\n",
       "5.0    4679\n",
       "7.0     622\n",
       "8.0     110\n",
       "4.0      88\n",
       "6.0      28\n",
       "Name: count, dtype: int64"
      ]
     },
     "execution_count": 46,
     "metadata": {},
     "output_type": "execute_result"
    }
   ],
   "source": [
    "df['Seats'].value_counts()"
   ]
  },
  {
   "cell_type": "code",
   "execution_count": 47,
   "id": "027057e4",
   "metadata": {},
   "outputs": [],
   "source": [
    "dummies = pd.get_dummies(df.Colour)\n",
    "df = pd.concat([df,dummies],axis = 'columns')\n",
    "df.drop('Colour',axis = 1,inplace=True)"
   ]
  },
  {
   "cell_type": "code",
   "execution_count": 48,
   "id": "442cf927",
   "metadata": {},
   "outputs": [],
   "source": [
    "dummies = pd.get_dummies(df.Location)\n",
    "df = pd.concat([df,dummies],axis = 'columns')\n",
    "df.drop('Location',axis = 1,inplace=True)"
   ]
  },
  {
   "cell_type": "code",
   "execution_count": 49,
   "id": "a2a44c14",
   "metadata": {},
   "outputs": [],
   "source": [
    "dummies = pd.get_dummies(df.Name)\n",
    "df = pd.concat([df,dummies],axis = 'columns')\n",
    "df.drop('Name',axis = 1,inplace=True)"
   ]
  },
  {
   "cell_type": "code",
   "execution_count": 50,
   "id": "06439038",
   "metadata": {},
   "outputs": [],
   "source": [
    "dummies = pd.get_dummies(df.Owner_Type)\n",
    "df = pd.concat([df,dummies],axis = 'columns')\n",
    "df.drop('Owner_Type',axis = 1,inplace=True)"
   ]
  },
  {
   "cell_type": "code",
   "execution_count": 51,
   "id": "344c6097",
   "metadata": {},
   "outputs": [],
   "source": [
    "dummies = pd.get_dummies(df.Year)\n",
    "df = pd.concat([df,dummies],axis = 'columns')\n",
    "df.drop('Year',axis = 1,inplace=True)"
   ]
  },
  {
   "cell_type": "code",
   "execution_count": 52,
   "id": "51710455",
   "metadata": {},
   "outputs": [],
   "source": [
    "dummies = pd.get_dummies(df.Fuel_Type)\n",
    "df = pd.concat([df,dummies],axis = 'columns')\n",
    "df.drop('Fuel_Type',axis = 1,inplace=True)"
   ]
  },
  {
   "cell_type": "code",
   "execution_count": 53,
   "id": "eb8ccdfc",
   "metadata": {},
   "outputs": [
    {
     "data": {
      "text/html": [
       "<div>\n",
       "<style scoped>\n",
       "    .dataframe tbody tr th:only-of-type {\n",
       "        vertical-align: middle;\n",
       "    }\n",
       "\n",
       "    .dataframe tbody tr th {\n",
       "        vertical-align: top;\n",
       "    }\n",
       "\n",
       "    .dataframe thead th {\n",
       "        text-align: right;\n",
       "    }\n",
       "</style>\n",
       "<table border=\"1\" class=\"dataframe\">\n",
       "  <thead>\n",
       "    <tr style=\"text-align: right;\">\n",
       "      <th></th>\n",
       "      <th>Kilometers_Driven</th>\n",
       "      <th>Transmission</th>\n",
       "      <th>Mileage</th>\n",
       "      <th>Engine</th>\n",
       "      <th>Power</th>\n",
       "      <th>Seats</th>\n",
       "      <th>No. of Doors</th>\n",
       "      <th>Price</th>\n",
       "      <th>Black/Silver</th>\n",
       "      <th>Others</th>\n",
       "      <th>...</th>\n",
       "      <th>2013.0</th>\n",
       "      <th>2014.0</th>\n",
       "      <th>2015.0</th>\n",
       "      <th>2016.0</th>\n",
       "      <th>2017.0</th>\n",
       "      <th>2018.0</th>\n",
       "      <th>2019.0</th>\n",
       "      <th>Diesel</th>\n",
       "      <th>Petrol</th>\n",
       "      <th>other</th>\n",
       "    </tr>\n",
       "  </thead>\n",
       "  <tbody>\n",
       "    <tr>\n",
       "      <th>1</th>\n",
       "      <td>18678.0</td>\n",
       "      <td>1</td>\n",
       "      <td>21.10</td>\n",
       "      <td>998.0</td>\n",
       "      <td>100.0</td>\n",
       "      <td>5.0</td>\n",
       "      <td>4.0</td>\n",
       "      <td>8.32</td>\n",
       "      <td>False</td>\n",
       "      <td>True</td>\n",
       "      <td>...</td>\n",
       "      <td>False</td>\n",
       "      <td>False</td>\n",
       "      <td>False</td>\n",
       "      <td>False</td>\n",
       "      <td>False</td>\n",
       "      <td>True</td>\n",
       "      <td>False</td>\n",
       "      <td>False</td>\n",
       "      <td>True</td>\n",
       "      <td>False</td>\n",
       "    </tr>\n",
       "    <tr>\n",
       "      <th>2</th>\n",
       "      <td>197000.0</td>\n",
       "      <td>1</td>\n",
       "      <td>11.68</td>\n",
       "      <td>2498.0</td>\n",
       "      <td>112.0</td>\n",
       "      <td>7.0</td>\n",
       "      <td>5.0</td>\n",
       "      <td>4.00</td>\n",
       "      <td>False</td>\n",
       "      <td>False</td>\n",
       "      <td>...</td>\n",
       "      <td>True</td>\n",
       "      <td>False</td>\n",
       "      <td>False</td>\n",
       "      <td>False</td>\n",
       "      <td>False</td>\n",
       "      <td>False</td>\n",
       "      <td>False</td>\n",
       "      <td>True</td>\n",
       "      <td>False</td>\n",
       "      <td>False</td>\n",
       "    </tr>\n",
       "    <tr>\n",
       "      <th>3</th>\n",
       "      <td>45000.0</td>\n",
       "      <td>1</td>\n",
       "      <td>24.00</td>\n",
       "      <td>1120.0</td>\n",
       "      <td>70.0</td>\n",
       "      <td>5.0</td>\n",
       "      <td>4.0</td>\n",
       "      <td>3.49</td>\n",
       "      <td>False</td>\n",
       "      <td>False</td>\n",
       "      <td>...</td>\n",
       "      <td>False</td>\n",
       "      <td>True</td>\n",
       "      <td>False</td>\n",
       "      <td>False</td>\n",
       "      <td>False</td>\n",
       "      <td>False</td>\n",
       "      <td>False</td>\n",
       "      <td>True</td>\n",
       "      <td>False</td>\n",
       "      <td>False</td>\n",
       "    </tr>\n",
       "    <tr>\n",
       "      <th>4</th>\n",
       "      <td>65000.0</td>\n",
       "      <td>1</td>\n",
       "      <td>12.80</td>\n",
       "      <td>2494.0</td>\n",
       "      <td>102.0</td>\n",
       "      <td>8.0</td>\n",
       "      <td>5.0</td>\n",
       "      <td>6.40</td>\n",
       "      <td>False</td>\n",
       "      <td>True</td>\n",
       "      <td>...</td>\n",
       "      <td>False</td>\n",
       "      <td>False</td>\n",
       "      <td>False</td>\n",
       "      <td>False</td>\n",
       "      <td>False</td>\n",
       "      <td>False</td>\n",
       "      <td>False</td>\n",
       "      <td>True</td>\n",
       "      <td>False</td>\n",
       "      <td>False</td>\n",
       "    </tr>\n",
       "    <tr>\n",
       "      <th>6</th>\n",
       "      <td>79000.0</td>\n",
       "      <td>1</td>\n",
       "      <td>24.80</td>\n",
       "      <td>1396.0</td>\n",
       "      <td>88.7</td>\n",
       "      <td>5.0</td>\n",
       "      <td>4.0</td>\n",
       "      <td>7.25</td>\n",
       "      <td>False</td>\n",
       "      <td>False</td>\n",
       "      <td>...</td>\n",
       "      <td>False</td>\n",
       "      <td>False</td>\n",
       "      <td>False</td>\n",
       "      <td>True</td>\n",
       "      <td>False</td>\n",
       "      <td>False</td>\n",
       "      <td>False</td>\n",
       "      <td>True</td>\n",
       "      <td>False</td>\n",
       "      <td>False</td>\n",
       "    </tr>\n",
       "    <tr>\n",
       "      <th>...</th>\n",
       "      <td>...</td>\n",
       "      <td>...</td>\n",
       "      <td>...</td>\n",
       "      <td>...</td>\n",
       "      <td>...</td>\n",
       "      <td>...</td>\n",
       "      <td>...</td>\n",
       "      <td>...</td>\n",
       "      <td>...</td>\n",
       "      <td>...</td>\n",
       "      <td>...</td>\n",
       "      <td>...</td>\n",
       "      <td>...</td>\n",
       "      <td>...</td>\n",
       "      <td>...</td>\n",
       "      <td>...</td>\n",
       "      <td>...</td>\n",
       "      <td>...</td>\n",
       "      <td>...</td>\n",
       "      <td>...</td>\n",
       "      <td>...</td>\n",
       "    </tr>\n",
       "    <tr>\n",
       "      <th>5955</th>\n",
       "      <td>29279.0</td>\n",
       "      <td>1</td>\n",
       "      <td>24.70</td>\n",
       "      <td>1047.0</td>\n",
       "      <td>69.0</td>\n",
       "      <td>5.0</td>\n",
       "      <td>4.0</td>\n",
       "      <td>7.46</td>\n",
       "      <td>True</td>\n",
       "      <td>False</td>\n",
       "      <td>...</td>\n",
       "      <td>False</td>\n",
       "      <td>False</td>\n",
       "      <td>False</td>\n",
       "      <td>False</td>\n",
       "      <td>False</td>\n",
       "      <td>False</td>\n",
       "      <td>True</td>\n",
       "      <td>True</td>\n",
       "      <td>False</td>\n",
       "      <td>False</td>\n",
       "    </tr>\n",
       "    <tr>\n",
       "      <th>5956</th>\n",
       "      <td>47000.0</td>\n",
       "      <td>0</td>\n",
       "      <td>13.90</td>\n",
       "      <td>1799.0</td>\n",
       "      <td>130.3</td>\n",
       "      <td>5.0</td>\n",
       "      <td>4.0</td>\n",
       "      <td>4.50</td>\n",
       "      <td>False</td>\n",
       "      <td>True</td>\n",
       "      <td>...</td>\n",
       "      <td>False</td>\n",
       "      <td>False</td>\n",
       "      <td>False</td>\n",
       "      <td>False</td>\n",
       "      <td>False</td>\n",
       "      <td>False</td>\n",
       "      <td>False</td>\n",
       "      <td>False</td>\n",
       "      <td>True</td>\n",
       "      <td>False</td>\n",
       "    </tr>\n",
       "    <tr>\n",
       "      <th>5957</th>\n",
       "      <td>63777.0</td>\n",
       "      <td>1</td>\n",
       "      <td>18.50</td>\n",
       "      <td>1197.0</td>\n",
       "      <td>82.9</td>\n",
       "      <td>5.0</td>\n",
       "      <td>4.0</td>\n",
       "      <td>3.67</td>\n",
       "      <td>True</td>\n",
       "      <td>False</td>\n",
       "      <td>...</td>\n",
       "      <td>True</td>\n",
       "      <td>False</td>\n",
       "      <td>False</td>\n",
       "      <td>False</td>\n",
       "      <td>False</td>\n",
       "      <td>False</td>\n",
       "      <td>False</td>\n",
       "      <td>False</td>\n",
       "      <td>True</td>\n",
       "      <td>False</td>\n",
       "    </tr>\n",
       "    <tr>\n",
       "      <th>5958</th>\n",
       "      <td>37806.0</td>\n",
       "      <td>1</td>\n",
       "      <td>20.40</td>\n",
       "      <td>1197.0</td>\n",
       "      <td>81.8</td>\n",
       "      <td>5.0</td>\n",
       "      <td>4.0</td>\n",
       "      <td>5.20</td>\n",
       "      <td>True</td>\n",
       "      <td>False</td>\n",
       "      <td>...</td>\n",
       "      <td>False</td>\n",
       "      <td>False</td>\n",
       "      <td>False</td>\n",
       "      <td>True</td>\n",
       "      <td>False</td>\n",
       "      <td>False</td>\n",
       "      <td>False</td>\n",
       "      <td>False</td>\n",
       "      <td>True</td>\n",
       "      <td>False</td>\n",
       "    </tr>\n",
       "    <tr>\n",
       "      <th>5960</th>\n",
       "      <td>7000.0</td>\n",
       "      <td>1</td>\n",
       "      <td>20.36</td>\n",
       "      <td>1197.0</td>\n",
       "      <td>78.9</td>\n",
       "      <td>5.0</td>\n",
       "      <td>4.0</td>\n",
       "      <td>3.60</td>\n",
       "      <td>False</td>\n",
       "      <td>False</td>\n",
       "      <td>...</td>\n",
       "      <td>False</td>\n",
       "      <td>False</td>\n",
       "      <td>False</td>\n",
       "      <td>True</td>\n",
       "      <td>False</td>\n",
       "      <td>False</td>\n",
       "      <td>False</td>\n",
       "      <td>False</td>\n",
       "      <td>True</td>\n",
       "      <td>False</td>\n",
       "    </tr>\n",
       "  </tbody>\n",
       "</table>\n",
       "<p>5527 rows × 184 columns</p>\n",
       "</div>"
      ],
      "text/plain": [
       "      Kilometers_Driven  Transmission  Mileage  Engine  Power Seats  \\\n",
       "1               18678.0             1    21.10   998.0  100.0   5.0   \n",
       "2              197000.0             1    11.68  2498.0  112.0   7.0   \n",
       "3               45000.0             1    24.00  1120.0   70.0   5.0   \n",
       "4               65000.0             1    12.80  2494.0  102.0   8.0   \n",
       "6               79000.0             1    24.80  1396.0   88.7   5.0   \n",
       "...                 ...           ...      ...     ...    ...   ...   \n",
       "5955            29279.0             1    24.70  1047.0   69.0   5.0   \n",
       "5956            47000.0             0    13.90  1799.0  130.3   5.0   \n",
       "5957            63777.0             1    18.50  1197.0   82.9   5.0   \n",
       "5958            37806.0             1    20.40  1197.0   81.8   5.0   \n",
       "5960             7000.0             1    20.36  1197.0   78.9   5.0   \n",
       "\n",
       "     No. of Doors  Price  Black/Silver  Others  ...  2013.0  2014.0  2015.0  \\\n",
       "1             4.0   8.32         False    True  ...   False   False   False   \n",
       "2             5.0   4.00         False   False  ...    True   False   False   \n",
       "3             4.0   3.49         False   False  ...   False    True   False   \n",
       "4             5.0   6.40         False    True  ...   False   False   False   \n",
       "6             4.0   7.25         False   False  ...   False   False   False   \n",
       "...           ...    ...           ...     ...  ...     ...     ...     ...   \n",
       "5955          4.0   7.46          True   False  ...   False   False   False   \n",
       "5956          4.0   4.50         False    True  ...   False   False   False   \n",
       "5957          4.0   3.67          True   False  ...    True   False   False   \n",
       "5958          4.0   5.20          True   False  ...   False   False   False   \n",
       "5960          4.0   3.60         False   False  ...   False   False   False   \n",
       "\n",
       "      2016.0  2017.0  2018.0  2019.0  Diesel  Petrol  other  \n",
       "1      False   False    True   False   False    True  False  \n",
       "2      False   False   False   False    True   False  False  \n",
       "3      False   False   False   False    True   False  False  \n",
       "4      False   False   False   False    True   False  False  \n",
       "6       True   False   False   False    True   False  False  \n",
       "...      ...     ...     ...     ...     ...     ...    ...  \n",
       "5955   False   False   False    True    True   False  False  \n",
       "5956   False   False   False   False   False    True  False  \n",
       "5957   False   False   False   False   False    True  False  \n",
       "5958    True   False   False   False   False    True  False  \n",
       "5960    True   False   False   False   False    True  False  \n",
       "\n",
       "[5527 rows x 184 columns]"
      ]
     },
     "execution_count": 53,
     "metadata": {},
     "output_type": "execute_result"
    }
   ],
   "source": [
    "df"
   ]
  },
  {
   "cell_type": "code",
   "execution_count": 54,
   "id": "71274439",
   "metadata": {},
   "outputs": [],
   "source": [
    "X = df.drop(['Price'],axis = 'columns')\n",
    "X.head()\n",
    "X.columns = X.columns.astype(str)"
   ]
  },
  {
   "cell_type": "code",
   "execution_count": 55,
   "id": "68fd2ac9",
   "metadata": {},
   "outputs": [
    {
     "data": {
      "text/plain": [
       "1       8.32\n",
       "2       4.00\n",
       "3       3.49\n",
       "4       6.40\n",
       "6       7.25\n",
       "        ... \n",
       "5955    7.46\n",
       "5956    4.50\n",
       "5957    3.67\n",
       "5958    5.20\n",
       "5960    3.60\n",
       "Name: Price, Length: 5527, dtype: float64"
      ]
     },
     "execution_count": 55,
     "metadata": {},
     "output_type": "execute_result"
    }
   ],
   "source": [
    "Y = df.Price\n",
    "Y"
   ]
  },
  {
   "cell_type": "code",
   "execution_count": 56,
   "id": "07316acc",
   "metadata": {},
   "outputs": [],
   "source": [
    "from sklearn.model_selection import train_test_split\n",
    "X_train,X_test,Y_train,Y_test = train_test_split(X,Y,test_size = 0.3,random_state = 30)"
   ]
  },
  {
   "cell_type": "code",
   "execution_count": 57,
   "id": "24407369",
   "metadata": {},
   "outputs": [],
   "source": [
    "from sklearn.linear_model import LinearRegression"
   ]
  },
  {
   "cell_type": "code",
   "execution_count": 58,
   "id": "9cdf61a9",
   "metadata": {},
   "outputs": [
    {
     "data": {
      "text/plain": [
       "0.8620898155501714"
      ]
     },
     "execution_count": 58,
     "metadata": {},
     "output_type": "execute_result"
    }
   ],
   "source": [
    "lr_clf = LinearRegression()\n",
    "lr_clf.fit(X_train,Y_train)\n",
    "lr_clf.score(X_train,Y_train)"
   ]
  },
  {
   "cell_type": "code",
   "execution_count": 59,
   "id": "d5d39839",
   "metadata": {},
   "outputs": [],
   "source": [
    "from sklearn.metrics import mean_absolute_error, r2_score, mean_squared_error"
   ]
  },
  {
   "cell_type": "code",
   "execution_count": 60,
   "id": "07549891",
   "metadata": {},
   "outputs": [],
   "source": [
    "Y_pred = lr_clf.predict(X_test)\n"
   ]
  },
  {
   "cell_type": "code",
   "execution_count": 61,
   "id": "13bae34b",
   "metadata": {},
   "outputs": [
    {
     "name": "stdout",
     "output_type": "stream",
     "text": [
      "The Coefficient of detemination is : 0.8270045812026192\n",
      "The Mean Absolute error is : 2.4346822896186797\n",
      "The Mean Sqaured error is : 4.2288394649794645\n"
     ]
    },
    {
     "name": "stderr",
     "output_type": "stream",
     "text": [
      "C:\\Users\\gayat\\AppData\\Roaming\\Python\\Python311\\site-packages\\sklearn\\metrics\\_regression.py:483: FutureWarning: 'squared' is deprecated in version 1.4 and will be removed in 1.6. To calculate the root mean squared error, use the function'root_mean_squared_error'.\n",
      "  warnings.warn(\n"
     ]
    }
   ],
   "source": [
    "mse = mean_squared_error(Y_test,Y_pred,squared = False)\n",
    "mae=mean_absolute_error(Y_test,Y_pred)\n",
    "r2 = r2_score(Y_test,Y_pred)\n",
    "print(f\"The Coefficient of detemination is : {r2}\")\n",
    "print(f\"The Mean Absolute error is : {mae}\")\n",
    "print(f\"The Mean Sqaured error is : {mse}\")"
   ]
  },
  {
   "cell_type": "code",
   "execution_count": null,
   "id": "fd2f7301",
   "metadata": {},
   "outputs": [],
   "source": []
  }
 ],
 "metadata": {
  "kernelspec": {
   "display_name": "Python 3 (ipykernel)",
   "language": "python",
   "name": "python3"
  },
  "language_info": {
   "codemirror_mode": {
    "name": "ipython",
    "version": 3
   },
   "file_extension": ".py",
   "mimetype": "text/x-python",
   "name": "python",
   "nbconvert_exporter": "python",
   "pygments_lexer": "ipython3",
   "version": "3.11.7"
  }
 },
 "nbformat": 4,
 "nbformat_minor": 5
}
